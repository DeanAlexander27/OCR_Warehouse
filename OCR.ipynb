{
 "cells": [
  {
   "attachments": {},
   "cell_type": "markdown",
   "id": "e83a7560",
   "metadata": {},
   "source": [
    "<center>\n",
    "<img src=\"assets/logo.png\" width=\"1000\">\n",
    "<br>\n",
    "</center>"
   ]
  },
  {
   "attachments": {},
   "cell_type": "markdown",
   "id": "28850d31",
   "metadata": {},
   "source": [
    "# Penerapan OCR pada Lingkungan Warehouse"
   ]
  },
  {
   "attachments": {},
   "cell_type": "markdown",
   "id": "0a5a016f",
   "metadata": {},
   "source": [
    "## Latar Belakang\n",
    "\n",
    "   Perkembangan yang pesat akan teknologi informasi secara masif mendunia, berlomba menciptakan solusi sebagai bentuk gerakan digital supply chain, dalam laporan A.T. Kearneys yang merupakan salah satu perusahaan konsultan dunia pada tahun 2015, mengenai laporan dalam peran digitalisasi terhadap manajamen rantai pasok di masa yang akan datang, hasil temuan dikemukakan bahwa banyak pimpinan supply chain dari perusahaan – perusahaaan terkemuka di Eropa memperkirakan pendorong digitalisasi dalam 3 tahun kedepan lebih berfokus pada topik topik dibidang integrasi IT, penggunaan data secara lebih komprehensif dan proses proses paperless dalam dukungan gerakan green logistic. Dari laman A.T. Kearneys menilai banyak perusahaan berinvestasi untuk digitalisasi berhatap dapat meningkatkan pengambilan keputusan dan meningkatkan fleksibilitas,menurukan biaya dan resiko seminimal mungkin (Pujawan, 2017, P. 332).\n",
    "\n",
    "   Dalam dunia bisnis logistik yang merupakan dari bagian aktifitas supply chain,membutuhkan informasi yang akurat dan cepat menjadi area yang sangat penting untuk menjamin pengiriman barang yang tepat waktu dan tepat sasaran. Salah satu aspek penting dari proses logistik adalah pengelolaan gudang yang efektif (Herry, et al .,2020). Gudang yang efektif dan efisien membutuhkan proses penerimaan barang yang cepat dan akurat. Salah satu tantangan utama dalam proses penerimaan barang di gudang adalah penginputan data yang terkadang dapat menyebabkan kesalahan seperti dengan kesalahan penulisan, ketidakakuratan pencatatan jumlah barang yang diterima dan dikeluarkan, penerimaan barang yang masih manual dengan membutuhkan waktu yang cukup lama untuk memproses, penerimaan barang yang masih manual membutuhkan tenaga kerja manusia yang lebih banyak, yang dapat meningkatkan biaya operasional dan resiko (Berg, S. A., Seo, S.-Y., & So, R. H. Y. 2019). Dikaitkan dengan konsep *green logistic* yang menitik beratkan pengurangan dampak negatif pada lingkungan, termasuk penggunaan kertas yang berlebihan, perlu dilakukan penerapan teknologi dalam proses penerimaan barang, proses pencatatan data dapat dilakukan secara elektronik, sehingga dapat mengurangi penggunaan kertas.\n",
    "\n",
    "   Oleh karena itu, dibutuhkan solusi yang tepat sasaran dalam membantu mengatasi masalah tersebut. Di dalam era digitalisasi saat ini sudah masuk ke dalam level revolusi industri 4.0 yang dimana revolusi digital tempat perpaduan teknologi yang mengaburkan bidang fisik, digital, dan biologis, salah satu nya adalah teknologi kecerdasan buatan (Artificial Intelligence / AI) memiliki banyak variasi, namun secara umum dapat dikatakan sebagai sistem komputer yang ditujukan untuk meniru pilihan dan perilaku manusia, yang terus belajar dan menalar seperti manusia (Pujawan, 2017, P. 320). Salah satu penerapan AI adalah OCR,OCR merupakan teknologi yang memungkinkan mesin untuk membaca dan mengenali karakter pada dokumen fisik atau digital, sehingga dapat mengubah dokumen tersebut menjadi data yang dapat diolah oleh sistem komputer (Goodfellow, I., Courville, A., & Bengio, Y. 2016 , P.371).\n",
    "   \n",
    "   Sebagai salah satu contoh penggunaan OCR yaitu Car Recognition dimana momen mudik lebaran 2023 di Indonesia dimana perhitungan dominasi jenis kendaraan masih dihitung secara manual dan dapat dilihat pada laman media sosial yang dimana dapat diselesaikan dengan penerapan OCR yaitu Car Recognition pada jenis kendaraan yang didominasi melewati rute jalan tersebut, dapat dilihat pada gambar dibawah ini."
   ]
  },
  {
   "attachments": {},
   "cell_type": "markdown",
   "id": "c67cb6d2",
   "metadata": {},
   "source": [
    "<center>\n",
    "<img src=\"assets/car recognition.png\" width=\"600\">\n",
    "<br>\n",
    "</center>"
   ]
  },
  {
   "attachments": {},
   "cell_type": "markdown",
   "id": "142dc8d8",
   "metadata": {},
   "source": [
    "Dan sudah beberapa penelitian mengenai OCR yang telah dilakukan di beberapa negara khususnya di negara **Montenegro** dibidang produk minuman Wine sebagai bentuk dukungan pada gerakan green supply chain (Cakic, et al., 2021), dapat dilihat pada gambar dibawah ini"
   ]
  },
  {
   "attachments": {},
   "cell_type": "markdown",
   "id": "7844f926",
   "metadata": {},
   "source": [
    "<center>\n",
    "<img src=\"assets/Capture1.JPG\" width=\"400\">\n",
    "<br>\n",
    "</center>"
   ]
  },
  {
   "attachments": {},
   "cell_type": "markdown",
   "id": "05d81c0e",
   "metadata": {},
   "source": [
    "Dari perusahaan Wine di negara Montenegro menggunakan sistem OCR dengan cara *scanning* nomor seri sebuah wine yang dicetak oleh manufaktur terkait, dan hasil yang diolah dikeluarkan output sebuah informasi nama produk, waktu pembuatan wine, asal negara wine dibuat,hingga penjelasan singkat mengenai produk wine terkait. Ditemukan bahwa implementasi OCR berpengaruh positif terhadap lingkungan dan keuangan perusahaan karena adanya penghematan biaya operasional khususnya pada penjelasan produk yang tidak perlu memanfaatkan kertas atau design dari produk terkait. Namun, penelitian tersebut terbatas pada studi kasus sebuah perusahaan wine."
   ]
  },
  {
   "attachments": {},
   "cell_type": "markdown",
   "id": "0eb99d4c",
   "metadata": {},
   "source": [
    "Adapun pula penelitian yang diangkat oleh Yeon Seo , Richard, dan Berg m  dengan judul “Application of optical character recognition with Tesseract in logistics management” dalam area bisnis logistic management berfokus pada permasalahan umum yang dihadapi manpower di area warehouse dari sebuah perusahaan cargo yaitu proses penerimaan karton dalam per harinya dengan rata - rata 2,000 karton dan setiap karton diberi label kode produk dan manpower perlu melakukan cek manual antara label yang sudah dicetak sebelumnya dengan label yang berada pada karton, informasi label yang sudah dicetak berdasarkan Advanced Shipment Notice (ASN), dokumen yang memberikan informasi yang ditemukan pada setiap karton dan nomor SKU yang sesuai, biasanya, perusahaan mitra akan menerima ASN sebelum pengiriman. Tujuan ASN adalah agar perusahaan mitra dapat mengantisipasi pengiriman tertentu dan saat pengiriman tiba, dapat mencocokkan barang dengan informasi yang ditampilkan pada ASN untuk pemrosesan yang lebih efisien. Sehingga perusahaan memutuskan dalam pembuatan aplikasi OCR dengan melakukan re-design cargo handling process. Tetapi penelitian ini hanya sebatas dengan penggunaan library Tesseract OCR dalam pembacaan tulisan abjad pada label karton, dimana kesimpulan dalam penggunaan Tesseract OCR ini cukup kesulitan dalam membaca label tulisan tangan manusia.\n",
    "\n",
    "Pada tabel berikut ini dapat dilihat penelitian penelitian sebelumnya : \n",
    "\n",
    "<center>\n",
    "<img src=\"assets/Capture.JPG\" width=\"400\">\n",
    "</center>"
   ]
  },
  {
   "attachments": {},
   "cell_type": "markdown",
   "metadata": {},
   "source": [
    "Pada Tabel diatas dilihat penelitian OCR pada area Supply Chain Management di area warehouse, keseluruhan menggunakan model architectur yang sudah jadi tetapi keseluruhannya tidak dapat membaca tulisa tangan manusia.\n",
    " \n",
    "Maka dari itu, peneliti fokus dalam melakukan pembuatan OCR yang dapat membaca tulisan tangan manusia, hasil dari penelitian ini dapat diaplikasikan sebagai bentuk gerakan *green supply chain*"
   ]
  },
  {
   "attachments": {},
   "cell_type": "markdown",
   "id": "3dca9fb0",
   "metadata": {},
   "source": [
    "## Problem Statement\n",
    "\n",
    "Dapat dilihat pada latarbelakang bahwa ditemukan beberapa masalah yang terjadi pada area warehouse khususnya di bagian inbound area / penerimaan dan outbond area / item keluar , sebagai berikut :\n",
    "\n",
    "- Penggunaan kertas berlebih yang dimana proses administrasi masih manual secara penyimpanan berkas fisik menimbulkan penumpukan kertas berlebih di area warehouse.\n",
    "- Proses informasi label yang berisi Nomor PO barang, nama barang, nama *Supplier* , hingga tanggal terbit nya PO dalam warehouse yang masih dilakukan secara manual untuk pengecekan kesamaan antara label yang sudah diterbitkan dengan label yang berada pada barang di area receiving / inbound warehouse, sehingga kesalahan input dan pengecekan informasi yang memakan waktu dan resiko kesalahan dengan pengecekan manual.\n",
    "\n",
    "Dari ke dua masalah diatas maka diperlukan pendekatan solusi yang baik untuk menghindari resiko yang terjadi di area warehouse dapat dilihat pada gambar dibawah ini\n",
    "\n",
    "<center>\n",
    "<img src=\"assets/bottleneck.png\" width=\"500\">\n",
    "<br>\n",
    "</center>\n"
   ]
  },
  {
   "attachments": {},
   "cell_type": "markdown",
   "id": "6308c8f1",
   "metadata": {},
   "source": [
    "# Project Idea\n",
    "\n",
    "Pencegahan yang dijabarkan dalam *Problem Statement* diperlukan pendeketan solusi sedini mungkin dalam menekan resiko yang ada dalam warehouse. Maka dari ini, peneliti membuat pendekatan OCR pada warehouse sebagai mesin pembaca informasi pada barang untuk dilanjutkan kedalam media penyimpanan *data base*.\n",
    "\n",
    "<center>\n",
    "<img src=\"assets/ocr.jpg\" width=\"300\">\n",
    "<br>\n",
    "</center>"
   ]
  },
  {
   "attachments": {},
   "cell_type": "markdown",
   "id": "b1c1a0b2",
   "metadata": {},
   "source": [
    "# Flow Process\n",
    "\n",
    "Arus praktik penerapan OCR dapat dilihat pada gambar dibawah ini :\n",
    "\n",
    "<center>\n",
    "<img src=\"assets/flow.png\" width=\"600\">\n",
    "<br>\n",
    "</center>"
   ]
  },
  {
   "attachments": {},
   "cell_type": "markdown",
   "id": "8c1b41f4",
   "metadata": {},
   "source": [
    "## Output\n",
    "\n",
    "Output dari project ini berupa :\n",
    "- Dashboard yang dapat menerima hasil gambar yang dapat menampilkan hasil pembacaan dari alat OCR secara real time \n",
    "- Dan dibuatkan database sementara yang bisa di export kedalam .csv yang nantinya digunakan perusahaan untuk melakukan upload ERP sistem masing masing."
   ]
  },
  {
   "attachments": {},
   "cell_type": "markdown",
   "id": "dd5266e8",
   "metadata": {},
   "source": [
    "## EDA (Exploraroty Data Analysis"
   ]
  },
  {
   "cell_type": "code",
   "execution_count": 12,
   "id": "b8db2a8a",
   "metadata": {},
   "outputs": [],
   "source": [
    "# Library\n",
    "import numpy as np\n",
    "import pandas as pd\n",
    "import os # os for directorial file path\n",
    "import tensorflow as tf\n",
    "import matplotlib.pyplot as plt"
   ]
  },
  {
   "attachments": {},
   "cell_type": "markdown",
   "id": "b6f3c6e6",
   "metadata": {},
   "source": [
    "### Data Set\n",
    "\n",
    "Data-set yang digunakan dalam tugas akhir ini adalah data-set handwritting recognition / tulisan tangan manusia yang dapat diakses di link dibawah ini\n",
    "\n",
    "[Data-set](https://www.kaggle.com/datasets/vaibhao/handwritten-characters)\n",
    "\n",
    "Penggunaan link bernama `Data-set` diatas digunakan untuk melatih *machine learning* mengenali tulisan tangan manusia yang dimana harapannya *machine learning* dapat mengenali tulisan tangan manusia."
   ]
  },
  {
   "cell_type": "code",
   "execution_count": 13,
   "id": "d7ff0b42",
   "metadata": {},
   "outputs": [],
   "source": [
    "# Specify the root paths\n",
    "train_path = \"D:/dataset/Train/\"\n",
    "test_path  = \"D:/dataset/Validation/\""
   ]
  },
  {
   "attachments": {},
   "cell_type": "markdown",
   "id": "a552e46e",
   "metadata": {},
   "source": []
  },
  {
   "cell_type": "code",
   "execution_count": 14,
   "id": "d3a1d312",
   "metadata": {
    "scrolled": false
   },
   "outputs": [],
   "source": [
    "# Get the class Names\n",
    "class_names = sorted(os.listdir(train_path))"
   ]
  },
  {
   "cell_type": "code",
   "execution_count": 15,
   "id": "59bf8213",
   "metadata": {},
   "outputs": [
    {
     "name": "stdout",
     "output_type": "stream",
     "text": [
      "Total Number of Classes : 39\n",
      "Class Names : \n",
      "['#', '$', '&', '0', '1', '2', '3', '4', '5', '6', '7', '8', '9', '@', 'A', 'B', 'C', 'D', 'E', 'F', 'G', 'H', 'I', 'J', 'K', 'L', 'M', 'N', 'P', 'Q', 'R', 'S', 'T', 'U', 'V', 'W', 'X', 'Y', 'Z']\n"
     ]
    }
   ],
   "source": [
    "# Total number of classes\n",
    "n_classes = len(class_names)\n",
    "\n",
    "# Show\n",
    "print(f\"Total Number of Classes : {n_classes}\")\n",
    "print(f\"Class Names : \\n{class_names}\")"
   ]
  },
  {
   "cell_type": "code",
   "execution_count": 16,
   "id": "c1da8774",
   "metadata": {},
   "outputs": [
    {
     "name": "stdout",
     "output_type": "stream",
     "text": [
      "Training Images : 834036\n",
      "Testing  Images : 22524\n"
     ]
    }
   ],
   "source": [
    "print(f\"Training Images : {sum([len(os.listdir(train_path + name)) for name in class_names])}\")\n",
    "print(f\"Testing  Images : {sum([len(os.listdir(test_path + name)) for name in class_names])}\")"
   ]
  },
  {
   "attachments": {},
   "cell_type": "markdown",
   "id": "732224ea",
   "metadata": {},
   "source": [
    "Insight :\n",
    "- Terdapat total label class dengan jumlah 39 label, dengan jumlah gambar training terdapat sejumlah 834,036 gambar dengan gambar testing (data-test) sejumlah 22,524 gambar "
   ]
  },
  {
   "cell_type": "code",
   "execution_count": 17,
   "id": "f407dc09",
   "metadata": {},
   "outputs": [],
   "source": [
    "import tensorflow.data as tfd\n",
    "from tqdm import tqdm\n",
    "# The batch size\n",
    "BATCH_SIZE = 64 \n",
    "\n",
    "# Image dims \n",
    "IMAGE_SIZE = (32,32) # Based on dataset's information on Kaggle\n",
    "\n",
    "# Buffer size\n",
    "BUFFER = 1000\n",
    "\n",
    "# Autotuning\n",
    "AUTOTUNE = tfd.AUTOTUNE"
   ]
  },
  {
   "cell_type": "code",
   "execution_count": 18,
   "id": "7cb96a99",
   "metadata": {},
   "outputs": [],
   "source": [
    "#Build Function of Show_Images\n",
    "def show_images(data, GRID=[8,8], FIGSIZE=(20,20), model=None):\n",
    "    \n",
    "    '''\n",
    "    This function is all about loading up our dataset and visualizing it with the help of matplotlib. By leveraging the power of\n",
    "    this powerful visualization tool, we can quickly and easily analyze our images and extract valuable insights in the process. \n",
    "    The key feature of this function is its ability to display each image in our dataset in detail, giving us a clear and concise\n",
    "    view of all the key details. \n",
    "    \n",
    "    Arguments : \n",
    "        data    : This refers to the dataset from which the images and labels should be extracted.\n",
    "        GRID    : This represents the total number of images broken up into rows and columns.\n",
    "        FIGSIZE : This is a matplotlib property for setting the figure size.\n",
    "        model   : In case if model is provided, then the function will make predictions and show the predictions as well.\n",
    "    \n",
    "    Returns : \n",
    "        None : It does not returns anything but it plots the images. \n",
    "    '''\n",
    "    \n",
    "    # Plotting configurations\n",
    "    plt.figure(figsize=FIGSIZE)\n",
    "    n_images = GRID[0] * GRID[-1]\n",
    "    \n",
    "    # Get the data for data visualization\n",
    "    images, labels = next(iter(data))\n",
    "    \n",
    "    # Iterate over data \n",
    "    for n_image, (image, label) in enumerate(zip(images, labels)):\n",
    "        \n",
    "        # Plot the image into the subplot.\n",
    "        plt.subplot(GRID[0], GRID[1], n_image+1)\n",
    "        plt.imshow(tf.squeeze(image))\n",
    "        plt.axis('off')\n",
    "        \n",
    "        # Adding the title\n",
    "        if model is not None:\n",
    "            image = tf.expand_dims(image, axis=0)\n",
    "            pred = model.predict(image)[0]\n",
    "            max_index = tf.argmax(pred)\n",
    "            score = pred[max_index]\n",
    "            pred_label = class_names[max_index]\n",
    "            title = \"Pred : {}\\nScore : {:.4}\".format(pred_label, score)\n",
    "            plt.title(title)\n",
    "        \n",
    "        # Break the loop \n",
    "        if n_image+1>=n_images:\n",
    "            break\n",
    "    \n",
    "    # Show the final plot\n",
    "    plt.tight_layout()\n",
    "    plt.show()"
   ]
  },
  {
   "cell_type": "code",
   "execution_count": 19,
   "id": "aa6e1a76",
   "metadata": {},
   "outputs": [],
   "source": [
    "# Build Function load_image\n",
    "def load_image(image_path:str):\n",
    "\n",
    "    '''\n",
    "    This is a pwerful function designed to facilitate the loading of images from a specified image path, while simultaneously \n",
    "    carrying out critical preprocessing steps. Specifically, this function implements two key preprocessing techniques : resizing and normalization.\n",
    "    \n",
    "    By leveraging resizing, this function standardizes the dimensions of the images, ensuring that they are of a consistent size and format.\n",
    "    This preprocessing step is essential to ensure that our analysis can be carried out accurately and efficiently, as it eliminates the risk\n",
    "    of errors or inconsistencies that can arise from variations in image dimensions.\n",
    "    \n",
    "    In addition to resizing, this function also incorporates normalization as a critical preprocessing step. By standardizing the images,\n",
    "    this technique helps to eliminate any variations that can affect the accuracy of our analysis, ensuring that our conclusions are robust and reliable.\n",
    "\n",
    "    Argument : \n",
    "        image_path : The path to the image file.\n",
    "    \n",
    "    Return : \n",
    "        image : The loaded and prerocessed image.\n",
    "    '''\n",
    "    \n",
    "    # Load image file\n",
    "    image_loaded = tf.io.read_file(image_path)\n",
    "\n",
    "    try:\n",
    "        # Decode the png image\n",
    "        image_decoded = tf.image.decode_png(contents=image_loaded, channels=3)\n",
    "        \n",
    "        # Convert the dtype\n",
    "        image_cnvt = tf.image.convert_image_dtype(image=image_decoded, dtype=tf.float32)\n",
    "\n",
    "        # Resize the image\n",
    "        image_resize = tf.image.resize(images=image_cnvt, size=IMAGE_SIZE)\n",
    "\n",
    "        # Normalize image\n",
    "        image_norm = tf.clip_by_value(image_resize, clip_value_min=0.0, clip_value_max=1.0)\n",
    "\n",
    "        # Just for security\n",
    "        image = tf.cast(x=image_norm, dtype=tf.float32)\n",
    "\n",
    "        # return\n",
    "        return image\n",
    "    except:\n",
    "        pass"
   ]
  },
  {
   "cell_type": "code",
   "execution_count": 20,
   "id": "af6a7727",
   "metadata": {},
   "outputs": [],
   "source": [
    "from glob import glob\n",
    "#Build function load_data\n",
    "def load_data(root_path, class_names, trim=None, shuffle=False, split=None):\n",
    "\n",
    "    '''\n",
    "    This function is designed to simplify the process of collecting file paths from the root path based on class names, while simultaneously \n",
    "    loading the associated images and labels. By leveraging this function, we can streamline our data collection process, ensuring that we can\n",
    "    rapidly access the files we need for our analysis.\n",
    "    \n",
    "    This functionality is particularly useful when working with large datasets, as it enables us to avoid the tedious manual effort of collecting\n",
    "    file paths and loading images and labels separately. Once the images and labels have been collected, this function takes the additional step of\n",
    "    converting them into a TensorFlow dataset, further streamlining the analysis process. \n",
    "    \n",
    "    By transforming the data into this format, we can leverage TensorFlow's powerful functionality and algorithms, enabling us to quickly and \n",
    "    accurately analyze the data and extract valuable insights.\n",
    "\n",
    "    Overall, this function is a powerful tool that streamlines the data collection and preprocessing process, enabling us to extract valuable\n",
    "    insights from large and complex datasets.\n",
    "    \n",
    "    Arguments : \n",
    "        root_path   : The main directory from which the data should be collected.\n",
    "        class_names : These are the class names or the sub directory names where the image files are present.\n",
    "    \n",
    "    Return : \n",
    "        data_set : The Tensorflow dataset of the images and labels.\n",
    "    '''\n",
    "\n",
    "    # Collect all file paths\n",
    "    if trim is not None:\n",
    "        details = [(path, name) for name in class_names for path in glob(pathname=f\"{root_path}/{name}/*\")[:trim]] #for all type image data        \n",
    "    else:\n",
    "        details = [(path, name) for name in class_names for path in glob(pathname=f\"{root_path}/{name}/*\")]\n",
    "\n",
    "\n",
    "    # Create space for images and labels\n",
    "    images = np.empty(shape=(len(details), *IMAGE_SIZE, 3), dtype='float32')\n",
    "    labels = np.empty(shape=(len(details), 1), dtype='int64')\n",
    "\n",
    "\n",
    "    # Iterate over all file paths\n",
    "    for index, (path, name) in tqdm(enumerate(details), desc=\"Loading\"):\n",
    "\n",
    "        # Load the image\n",
    "        image = load_image(image_path=path)\n",
    "\n",
    "        # get the label\n",
    "        label = class_names.index(name)\n",
    "\n",
    "        # Store this image and label\n",
    "        images[index] = image\n",
    "        labels[index] = label\n",
    "    \n",
    "    # Convert the data into tensorflow data\n",
    "    data_set = tfd.Dataset.from_tensor_slices((\n",
    "        images, labels\n",
    "    ))\n",
    "\n",
    "    # Shuffle if needed\n",
    "    if shuffle:\n",
    "        data_set = data_set.shuffle(BUFFER)\n",
    "    \n",
    "    # Split the data if needed\n",
    "    if split is not None:\n",
    "        \n",
    "        # get the data sizes\n",
    "        test_size = int(split * len(images))\n",
    "        train_size = int(len(images) - test_size)\n",
    "        \n",
    "        # Split the data\n",
    "        train_set = data_set.take(train_size)\n",
    "        test_set  = data_set.skip(train_size).take(test_size)\n",
    "        \n",
    "        # Batchify the data\n",
    "        train_set = train_set.batch(BATCH_SIZE).prefetch(AUTOTUNE)\n",
    "        test_set = test_set.batch(BATCH_SIZE).prefetch(AUTOTUNE)\n",
    "        \n",
    "        # Return data\n",
    "        return train_set, test_set\n",
    "    \n",
    "    else:\n",
    "        # The whole data\n",
    "        data_set = data_set.batch(BATCH_SIZE).prefetch(AUTOTUNE)\n",
    "        \n",
    "        # Return complete data\n",
    "        return data_set"
   ]
  },
  {
   "cell_type": "code",
   "execution_count": 21,
   "id": "30854bcd",
   "metadata": {
    "scrolled": true
   },
   "outputs": [
    {
     "name": "stderr",
     "output_type": "stream",
     "text": [
      "Loading: 11700it [00:27, 425.02it/s]\n"
     ]
    }
   ],
   "source": [
    "train_ds = load_data(root_path=train_path, class_names=class_names, trim=300, shuffle=True)"
   ]
  },
  {
   "cell_type": "code",
   "execution_count": 22,
   "id": "7371065c",
   "metadata": {},
   "outputs": [
    {
     "data": {
      "image/png": "[encoded data removed]",
      "text/plain": [
       "<Figure size 2000x2000 with 64 Axes>"
      ]
     },
     "metadata": {},
     "output_type": "display_data"
    }
   ],
   "source": [
    "show_images(data=train_ds)"
   ]
  },
  {
   "attachments": {},
   "cell_type": "markdown",
   "id": "ec574769",
   "metadata": {},
   "source": [
    "> Kumpulan data ini disusun menjadi dua bagian berbeda yaitu train dan validation. Setiap bagian terdiri dari direktori Pelatihan dan Pengujian, dengan 39 subdirektori, sesuai dengan 39 kelas yang berbeda dalam kumpulan data lebih lanjut kumpulan Data berisi semua huruf bahasa Inggris (kecil dan besar), angka (0-9) dan beberapa karakter khusus ( @, #, $, & ).\n",
    "\n",
    "> Data train untuk setiap kelas memiliki beragam jumlah gambar, hal ini perlu menjadi catatan selanjutnya untuk dilakukan up atau down sampling agar CNN dapat memiliki akurasi yang baik."
   ]
  },
  {
   "cell_type": "code",
   "execution_count": 23,
   "id": "cf73e8a9",
   "metadata": {},
   "outputs": [],
   "source": [
    "from PIL import Image #Using for load data image"
   ]
  },
  {
   "cell_type": "code",
   "execution_count": 24,
   "id": "a25086a7",
   "metadata": {},
   "outputs": [
    {
     "name": "stdout",
     "output_type": "stream",
     "text": [
      "['D:/dataset/Train/#\\\\__0_1004356.png', 'D:/dataset/Train/#\\\\__0_1022082.png', 'D:/dataset/Train/#\\\\__0_1042459.png', 'D:/dataset/Train/#\\\\__0_1055444.png', 'D:/dataset/Train/#\\\\__0_1064508.png', 'D:/dataset/Train/#\\\\__0_1071213.png']\n"
     ]
    }
   ],
   "source": [
    "# Specify the folder path\n",
    "folder_path = \"D:/dataset/Train/\"\n",
    "\n",
    "# Get file names in the folder\n",
    "file_names = []\n",
    "for root, dirs, files in os.walk(folder_path):\n",
    "    for file in files:\n",
    "        file_names.append(os.path.join(root, file))\n",
    "\n",
    "# Display the first 6 file names\n",
    "print(file_names[:6])"
   ]
  },
  {
   "cell_type": "code",
   "execution_count": 25,
   "id": "d96d166d",
   "metadata": {},
   "outputs": [
    {
     "name": "stdout",
     "output_type": "stream",
     "text": [
      "Width: 28 pix\n",
      "Height: 28 pix\n",
      "Depth: 8\n",
      "Colour mode: L\n"
     ]
    }
   ],
   "source": [
    "# Specify the folder path\n",
    "folder_path = \"D:/dataset/Train/\"\n",
    "\n",
    "# Get file names in the folder\n",
    "file_names = []\n",
    "for root, dirs, files in os.walk(folder_path):\n",
    "    for file in files:\n",
    "        file_names.append(os.path.join(root, file))\n",
    "\n",
    "# Load the image\n",
    "img = Image.open(file_names[1])\n",
    "\n",
    "# Get the image dimensions\n",
    "width, height = img.size\n",
    "\n",
    "# Get the image mode (color format)\n",
    "mode = img.mode\n",
    "\n",
    "# Get the bit depth of the image\n",
    "if mode == 'P':\n",
    "    depth = img.palette.get_depth()\n",
    "else:\n",
    "    depth = len(mode) * 8\n",
    "\n",
    "# Print the image information\n",
    "print(f\"Width: {width} pix\")\n",
    "print(f\"Height: {height} pix\")\n",
    "print(f\"Depth: {depth}\")\n",
    "print(f\"Colour mode: {mode}\")"
   ]
  },
  {
   "cell_type": "code",
   "execution_count": 26,
   "id": "64349a6f",
   "metadata": {},
   "outputs": [
    {
     "name": "stdout",
     "output_type": "stream",
     "text": [
      "                              filename  width  height depth\n",
      "0         D:/dataset/Train/0\\19292.jpg     32      32     L\n",
      "1         D:/dataset/Train/5\\19511.jpg     32      32     L\n",
      "2      D:/dataset/Train/0\\_1_20892.jpg     32      32     L\n",
      "3          D:/dataset/Train/V\\4228.jpg     32      32     L\n",
      "4          D:/dataset/Train/9\\1416.jpg     32      32     L\n",
      "5         D:/dataset/Train/5\\18293.jpg     32      32     L\n",
      "6         D:/dataset/Train/1\\12463.jpg     32      32     L\n",
      "7  D:/dataset/Train/&\\__24_4444632.png     28      28     L\n",
      "8         D:/dataset/Train/8\\22729.jpg     32      32     L\n",
      "9      D:/dataset/Train/E\\_1_13296.jpg     32      32     L\n"
     ]
    }
   ],
   "source": [
    "import random\n",
    "random.seed(123)\n",
    "\n",
    "# Randomly get 1000 sample images\n",
    "sample_file = random.sample(file_names, 1000)\n",
    "\n",
    "# Define function to get image dimensions\n",
    "def get_dim(filename):\n",
    "    img = Image.open(filename)\n",
    "    width, height = img.size\n",
    "    depth = img.mode\n",
    "    return {'filename': filename, 'width': width, 'height': height, 'depth': depth}\n",
    "\n",
    "# Run the get_dim() function for each image\n",
    "file_dim = pd.DataFrame([get_dim(f) for f in sample_file])\n",
    "\n",
    "print(file_dim.head(10))"
   ]
  },
  {
   "cell_type": "code",
   "execution_count": 27,
   "id": "894c017e",
   "metadata": {},
   "outputs": [
    {
     "data": {
      "text/html": [
       "<div>\n",
       "<style scoped>\n",
       "    .dataframe tbody tr th:only-of-type {\n",
       "        vertical-align: middle;\n",
       "    }\n",
       "\n",
       "    .dataframe tbody tr th {\n",
       "        vertical-align: top;\n",
       "    }\n",
       "\n",
       "    .dataframe thead th {\n",
       "        text-align: right;\n",
       "    }\n",
       "</style>\n",
       "<table border=\"1\" class=\"dataframe\">\n",
       "  <thead>\n",
       "    <tr style=\"text-align: right;\">\n",
       "      <th></th>\n",
       "      <th>width</th>\n",
       "      <th>height</th>\n",
       "    </tr>\n",
       "  </thead>\n",
       "  <tbody>\n",
       "    <tr>\n",
       "      <th>count</th>\n",
       "      <td>1000.000000</td>\n",
       "      <td>1000.000000</td>\n",
       "    </tr>\n",
       "    <tr>\n",
       "      <th>mean</th>\n",
       "      <td>31.608000</td>\n",
       "      <td>31.608000</td>\n",
       "    </tr>\n",
       "    <tr>\n",
       "      <th>std</th>\n",
       "      <td>1.189854</td>\n",
       "      <td>1.189854</td>\n",
       "    </tr>\n",
       "    <tr>\n",
       "      <th>min</th>\n",
       "      <td>28.000000</td>\n",
       "      <td>28.000000</td>\n",
       "    </tr>\n",
       "    <tr>\n",
       "      <th>25%</th>\n",
       "      <td>32.000000</td>\n",
       "      <td>32.000000</td>\n",
       "    </tr>\n",
       "    <tr>\n",
       "      <th>50%</th>\n",
       "      <td>32.000000</td>\n",
       "      <td>32.000000</td>\n",
       "    </tr>\n",
       "    <tr>\n",
       "      <th>75%</th>\n",
       "      <td>32.000000</td>\n",
       "      <td>32.000000</td>\n",
       "    </tr>\n",
       "    <tr>\n",
       "      <th>max</th>\n",
       "      <td>32.000000</td>\n",
       "      <td>32.000000</td>\n",
       "    </tr>\n",
       "  </tbody>\n",
       "</table>\n",
       "</div>"
      ],
      "text/plain": [
       "             width       height\n",
       "count  1000.000000  1000.000000\n",
       "mean     31.608000    31.608000\n",
       "std       1.189854     1.189854\n",
       "min      28.000000    28.000000\n",
       "25%      32.000000    32.000000\n",
       "50%      32.000000    32.000000\n",
       "75%      32.000000    32.000000\n",
       "max      32.000000    32.000000"
      ]
     },
     "execution_count": 27,
     "metadata": {},
     "output_type": "execute_result"
    }
   ],
   "source": [
    "file_dim.describe()"
   ]
  },
  {
   "attachments": {},
   "cell_type": "markdown",
   "id": "eab3017b",
   "metadata": {},
   "source": [
    "Jika dilihat dari sampel yang diambil bahwa tidak semua gambar seragam dengan dengan perbedaan 32 x 32 pixels dan 28 x 28 pixels\n",
    "maka perlu dilakukan penyeragaman skala gambar dengan nantinya ukuran 32 x 32 dengan proses data image augmentation sebagai data train nantinya agar *machine learning* dapat mempelajari data dengan baik."
   ]
  },
  {
   "attachments": {},
   "cell_type": "markdown",
   "id": "f92225a0",
   "metadata": {},
   "source": [
    "# Kesimpulan \n",
    "Dalam menjawab permasalahan pada latarbelakang bahwa ditemukan beberapa masalah yang terjadi pada area warehouse khususnya di bagian inbound area / penerimaan dan outbond area / item keluar , sebagai berikut :\n",
    "\n",
    "- Penggunaan kertas berlebih yang dimana proses administrasi masih manual secara penyimpanan berkas fisik menimbulkan penumpukan kertas berlebih di area warehouse.\n",
    "- Proses informasi label yang berisi Nomor PO barang, nama barang, nama *Supplier* , hingga tanggal terbit nya PO dalam warehouse yang masih dilakukan secara manual untuk pengecekan kesamaan antara label yang sudah diterbitkan dengan label yang berada pada barang di area receiving / inbound warehouse, sehingga kesalahan input dan pengecekan informasi yang memakan waktu dan resiko kesalahan dengan pengecekan manual.\n",
    "\n",
    "Dari ke dua masalah diatas maka diperlukan pendekatan solusi yang baik untuk menghindari resiko yang terjadi di area warehouse, oleh karena itu, dibutuhkan solusi yang tepat sasaran dalam membantu mengatasi masalah tersebut. Di dalam era digitalisasi saat ini sudah masuk ke dalam level revolusi industri 4.0 yang dimana revolusi digital tempat perpaduan teknologi yang mengaburkan bidang fisik, digital, dan biologis, salah satu nya adalah teknologi kecerdasan buatan (Artificial Intelligence / AI) memiliki banyak variasi, namun secara umum dapat dikatakan sebagai sistem komputer yang ditujukan untuk meniru pilihan dan perilaku manusia, yang terus belajar dan menalar seperti manusia, dimana dalam menjawab solusi ini penerapan OCR menjadi solusi yang baik dalam menjawab 2 tantangan diatas."
   ]
  }
 ],
 "metadata": {
  "kernelspec": {
   "display_name": "OCR",
   "language": "python",
   "name": "ocr"
  },
  "language_info": {
   "codemirror_mode": {
    "name": "ipython",
    "version": 3
   },
   "file_extension": ".py",
   "mimetype": "text/x-python",
   "name": "python",
   "nbconvert_exporter": "python",
   "pygments_lexer": "ipython3",
   "version": "3.8.16"
  }
 },
 "nbformat": 4,
 "nbformat_minor": 5
}
